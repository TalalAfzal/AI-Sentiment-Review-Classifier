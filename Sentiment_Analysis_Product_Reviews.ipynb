{
  "nbformat": 4,
  "nbformat_minor": 0,
  "metadata": {
    "colab": {
      "provenance": []
    },
    "kernelspec": {
      "name": "python3",
      "display_name": "Python 3"
    },
    "language_info": {
      "name": "python"
    }
  },
  "cells": [
    {
      "cell_type": "code",
      "execution_count": 15,
      "metadata": {
        "colab": {
          "base_uri": "https://localhost:8080/"
        },
        "id": "7B6Rk7dbR-FW",
        "outputId": "e6584240-e8b8-4fe8-e9dd-6cb7770632b6"
      },
      "outputs": [
        {
          "output_type": "stream",
          "name": "stderr",
          "text": [
            "/tmp/ipython-input-15-3007880078.py:4: DtypeWarning: Columns (1,10) have mixed types. Specify dtype option on import or set low_memory=False.\n",
            "  df = pd.read_csv('/content/drive/MyDrive/Colab Notebooks/bootcamp/1429_1.csv')\n",
            "[nltk_data] Downloading package stopwords to /root/nltk_data...\n",
            "[nltk_data]   Package stopwords is already up-to-date!\n",
            "[nltk_data] Downloading package wordnet to /root/nltk_data...\n",
            "[nltk_data]   Package wordnet is already up-to-date!\n",
            "[nltk_data] Downloading package omw-1.4 to /root/nltk_data...\n",
            "[nltk_data]   Package omw-1.4 is already up-to-date!\n"
          ]
        },
        {
          "output_type": "stream",
          "name": "stdout",
          "text": [
            "Index(['id', 'name', 'asins', 'brand', 'categories', 'keys', 'manufacturer',\n",
            "       'reviews.date', 'reviews.dateAdded', 'reviews.dateSeen',\n",
            "       'reviews.didPurchase', 'reviews.doRecommend', 'reviews.id',\n",
            "       'reviews.numHelpful', 'reviews.rating', 'reviews.sourceURLs',\n",
            "       'reviews.text', 'reviews.title', 'reviews.userCity',\n",
            "       'reviews.userProvince', 'reviews.username'],\n",
            "      dtype='object')\n",
            "                                        reviews.text  \\\n",
            "0  This product so far has not disappointed. My c...   \n",
            "1  great for beginner or experienced person. Boug...   \n",
            "2  Inexpensive tablet for him to use and learn on...   \n",
            "3  I've had my Fire HD 8 two weeks now and I love...   \n",
            "4  I bought this for my grand daughter when she c...   \n",
            "\n",
            "                                        cleaned_text  \n",
            "0  product far disappointed child love use like a...  \n",
            "1  great beginner experienced person bought gift ...  \n",
            "2  inexpensive tablet use learn step nabi thrille...  \n",
            "3  ive fire hd two week love tablet great valuewe...  \n",
            "4  bought grand daughter come visit set user ente...  \n"
          ]
        }
      ],
      "source": [
        "import pandas as pd\n",
        "\n",
        "# Load CSV\n",
        "df = pd.read_csv('/content/drive/MyDrive/Colab Notebooks/bootcamp/1429_1.csv')\n",
        "\n",
        "# Display first few rows\n",
        "print(df.columns)\n",
        "df.head()\n",
        "\n",
        "# Text Cleaning and Preprocessing\n",
        "import re\n",
        "import nltk\n",
        "from nltk.corpus import stopwords\n",
        "from nltk.stem import WordNetLemmatizer\n",
        "\n",
        "# Download NLTK resources if not already present\n",
        "nltk.download('stopwords')\n",
        "nltk.download('wordnet')\n",
        "nltk.download('omw-1.4')\n",
        "\n",
        "stop_words = set(stopwords.words('english'))\n",
        "lemmatizer = WordNetLemmatizer()\n",
        "\n",
        "\n",
        "\n",
        "def clean_text(text):\n",
        "    if pd.isnull(text):\n",
        "        return ''\n",
        "    # Lowercase\n",
        "    text = text.lower()\n",
        "    # Remove punctuation and numbers\n",
        "    text = re.sub(r'[^a-z\\s]', '', text)\n",
        "    # Tokenize and remove stopwords\n",
        "    tokens = [word for word in text.split() if word not in stop_words]\n",
        "    # Lemmatize\n",
        "    tokens = [lemmatizer.lemmatize(word) for word in tokens]\n",
        "    return ' '.join(tokens)\n",
        "\n",
        "# Apply cleaning to the 'reviews.text' column after handling missing values\n",
        "if 'reviews.text' in df.columns:\n",
        "    df['reviews.text'] = df['reviews.text'].fillna('') # Handle missing values\n",
        "    df['cleaned_text'] = df['reviews.text'].apply(clean_text)\n",
        "else:\n",
        "    print('Column reviews.text not found in DataFrame')\n",
        "\n",
        "# Display cleaned text\n",
        "print(df[['reviews.text', 'cleaned_text']].head())"
      ]
    },
    {
      "cell_type": "code",
      "source": [
        "from sklearn.feature_extraction.text import TfidfVectorizer\n",
        "\n",
        "vectorizer = TfidfVectorizer(max_features=5000)\n",
        "X = vectorizer.fit_transform(df['cleaned_text'])\n",
        "\n",
        "\n",
        "tfidf_df = pd.DataFrame(X.toarray())\n",
        "feature_names = vectorizer.get_feature_names_out()[:20]\n",
        "\n",
        "\n",
        "print(tfidf_df.shape)\n",
        "print(tfidf_df.head())"
      ],
      "metadata": {
        "colab": {
          "base_uri": "https://localhost:8080/"
        },
        "id": "Ee7UM_ilWH6G",
        "outputId": "a31fdf95-d489-4b9b-a96e-b63a40aa3ba2"
      },
      "execution_count": 27,
      "outputs": [
        {
          "output_type": "stream",
          "name": "stdout",
          "text": [
            "(34660, 5000)\n",
            "   0         1         2     3     4     5     6     7     8     9     ...  \\\n",
            "0   0.0  0.315374  0.000000   0.0   0.0   0.0   0.0   0.0   0.0   0.0  ...   \n",
            "1   0.0  0.000000  0.000000   0.0   0.0   0.0   0.0   0.0   0.0   0.0  ...   \n",
            "2   0.0  0.000000  0.000000   0.0   0.0   0.0   0.0   0.0   0.0   0.0  ...   \n",
            "3   0.0  0.000000  0.102577   0.0   0.0   0.0   0.0   0.0   0.0   0.0  ...   \n",
            "4   0.0  0.000000  0.000000   0.0   0.0   0.0   0.0   0.0   0.0   0.0  ...   \n",
            "\n",
            "   4990  4991  4992  4993  4994  4995  4996  4997  4998  4999  \n",
            "0   0.0   0.0   0.0   0.0   0.0   0.0   0.0   0.0   0.0   0.0  \n",
            "1   0.0   0.0   0.0   0.0   0.0   0.0   0.0   0.0   0.0   0.0  \n",
            "2   0.0   0.0   0.0   0.0   0.0   0.0   0.0   0.0   0.0   0.0  \n",
            "3   0.0   0.0   0.0   0.0   0.0   0.0   0.0   0.0   0.0   0.0  \n",
            "4   0.0   0.0   0.0   0.0   0.0   0.0   0.0   0.0   0.0   0.0  \n",
            "\n",
            "[5 rows x 5000 columns]\n"
          ]
        }
      ]
    },
    {
      "cell_type": "code",
      "source": [
        "# Label sentiment from ratings\n",
        "def label_sentiment(rating):\n",
        "    if rating >= 4:\n",
        "        return 'positive'\n",
        "    elif rating == 3:\n",
        "        return 'neutral'\n",
        "    else:\n",
        "        return 'negative'\n",
        "\n",
        "# Apply sentiment labeling to the same DataFrame used for TF-IDF\n",
        "# Filter df to include only rows with non-empty cleaned_text\n",
        "df_filtered = df[df['cleaned_text'].str.strip() != ''].copy()\n",
        "\n",
        "df_filtered['label'] = df_filtered['reviews.rating'].apply(label_sentiment)\n",
        "\n",
        "from sklearn.model_selection import train_test_split\n",
        "from sklearn.preprocessing import LabelEncoder\n",
        "print(df_filtered.columns.tolist())\n",
        "\n",
        "\n",
        "# Re-generate y from the filtered DataFrame\n",
        "le = LabelEncoder()\n",
        "y = le.fit_transform(df_filtered['label'])\n",
        "\n",
        "# Use the filtered DataFrame index to match X\n",
        "X_filtered = X[df_filtered.index]\n",
        "\n",
        "X_train, X_test, y_train, y_test = train_test_split(X_filtered, y, test_size=0.2, random_state=42)\n",
        "\n"
      ],
      "metadata": {
        "colab": {
          "base_uri": "https://localhost:8080/"
        },
        "id": "tmfoOY4eWHy0",
        "outputId": "7f56f73b-d574-453a-ac8c-8a63d6db9b73"
      },
      "execution_count": 28,
      "outputs": [
        {
          "output_type": "stream",
          "name": "stdout",
          "text": [
            "['id', 'name', 'asins', 'brand', 'categories', 'keys', 'manufacturer', 'reviews.date', 'reviews.dateAdded', 'reviews.dateSeen', 'reviews.didPurchase', 'reviews.doRecommend', 'reviews.id', 'reviews.numHelpful', 'reviews.rating', 'reviews.sourceURLs', 'reviews.text', 'reviews.title', 'reviews.userCity', 'reviews.userProvince', 'reviews.username', 'cleaned_text', 'label']\n"
          ]
        }
      ]
    },
    {
      "cell_type": "code",
      "source": [
        "from sklearn.naive_bayes import MultinomialNB\n",
        "from sklearn.linear_model import LogisticRegression\n",
        "from sklearn.metrics import classification_report, confusion_matrix\n",
        "\n",
        "# Naive Bayes\n",
        "nb = MultinomialNB()\n",
        "nb.fit(X_train, y_train)\n",
        "nb_preds = nb.predict(X_test)\n",
        "from sklearn.metrics import ConfusionMatrixDisplay\n",
        "import matplotlib.pyplot as plt\n",
        "\n",
        "ConfusionMatrixDisplay.from_predictions(\n",
        "    y_test,\n",
        "    nb_preds,\n",
        "    display_labels=le.classes_,  # Use actual label names\n",
        "    cmap='Blues',\n",
        "    xticks_rotation=45\n",
        ")\n",
        "plt.title(\"Naive Bayes Confusion Matrix\")\n",
        "plt.show()\n"
      ],
      "metadata": {
        "colab": {
          "base_uri": "https://localhost:8080/",
          "height": 511
        },
        "id": "6aSDLBa_WHpO",
        "outputId": "9c49344c-3120-45c8-9395-6d9aa49d6ab9"
      },
      "execution_count": 29,
      "outputs": [
        {
          "output_type": "display_data",
          "data": {
            "text/plain": [
              "<Figure size 640x480 with 2 Axes>"
            ],
            "image/png": "[encoded data removed]"
          },
          "metadata": {}
        }
      ]
    },
    {
      "cell_type": "code",
      "source": [
        "from sklearn.metrics import classification_report\n",
        "\n",
        "print(\"Classification Report:\")\n",
        "print(classification_report(y_test, nb_preds, target_names=le.classes_))\n",
        "from sklearn.metrics import accuracy_score\n",
        "\n",
        "accuracy = accuracy_score(y_test, nb_preds)\n",
        "print(f\"Accuracy: {accuracy:.4f}\")\n"
      ],
      "metadata": {
        "colab": {
          "base_uri": "https://localhost:8080/"
        },
        "id": "FbIKcPjvi-Ry",
        "outputId": "b49b87d4-be2f-40ad-bcac-5abf8e200e56"
      },
      "execution_count": 31,
      "outputs": [
        {
          "output_type": "stream",
          "name": "stdout",
          "text": [
            "Classification Report:\n",
            "              precision    recall  f1-score   support\n",
            "\n",
            "    negative       1.00      0.01      0.02       167\n",
            "     neutral       0.43      0.01      0.02       307\n",
            "    positive       0.93      1.00      0.96      6458\n",
            "\n",
            "    accuracy                           0.93      6932\n",
            "   macro avg       0.79      0.34      0.34      6932\n",
            "weighted avg       0.91      0.93      0.90      6932\n",
            "\n",
            "Accuracy: 0.9319\n"
          ]
        }
      ]
    },
    {
      "cell_type": "code",
      "source": [
        "import nltk\n",
        "from nltk.sentiment import SentimentIntensityAnalyzer\n",
        "\n",
        "nltk.download('vader_lexicon')\n",
        "sia = SentimentIntensityAnalyzer()\n",
        "\n",
        "def vader_sentiment(text):\n",
        "    score = sia.polarity_scores(str(text))['compound']\n",
        "    if score >= 0.05:\n",
        "        return 'positive'\n",
        "    elif score <= -0.05:\n",
        "        return 'negative'\n",
        "    else:\n",
        "        return 'neutral'\n",
        "\n",
        "vader_preds = test_texts.apply(vader_sentiment)\n"
      ],
      "metadata": {
        "colab": {
          "base_uri": "https://localhost:8080/",
          "height": 193
        },
        "id": "9DdVhzH8kWYR",
        "outputId": "23a6b115-c351-4727-d972-c55475f60902"
      },
      "execution_count": 32,
      "outputs": [
        {
          "output_type": "stream",
          "name": "stderr",
          "text": [
            "[nltk_data] Downloading package vader_lexicon to /root/nltk_data...\n"
          ]
        },
        {
          "output_type": "error",
          "ename": "NameError",
          "evalue": "name 'test_texts' is not defined",
          "traceback": [
            "\u001b[0;31m---------------------------------------------------------------------------\u001b[0m",
            "\u001b[0;31mNameError\u001b[0m                                 Traceback (most recent call last)",
            "\u001b[0;32m/tmp/ipython-input-32-1111426950.py\u001b[0m in \u001b[0;36m<cell line: 0>\u001b[0;34m()\u001b[0m\n\u001b[1;32m     14\u001b[0m         \u001b[0;32mreturn\u001b[0m \u001b[0;34m'neutral'\u001b[0m\u001b[0;34m\u001b[0m\u001b[0;34m\u001b[0m\u001b[0m\n\u001b[1;32m     15\u001b[0m \u001b[0;34m\u001b[0m\u001b[0m\n\u001b[0;32m---> 16\u001b[0;31m \u001b[0mvader_preds\u001b[0m \u001b[0;34m=\u001b[0m \u001b[0mtest_texts\u001b[0m\u001b[0;34m.\u001b[0m\u001b[0mapply\u001b[0m\u001b[0;34m(\u001b[0m\u001b[0mvader_sentiment\u001b[0m\u001b[0;34m)\u001b[0m\u001b[0;34m\u001b[0m\u001b[0;34m\u001b[0m\u001b[0m\n\u001b[0m",
            "\u001b[0;31mNameError\u001b[0m: name 'test_texts' is not defined"
          ]
        }
      ]
    },
    {
      "cell_type": "code",
      "source": [],
      "metadata": {
        "id": "V-wf9q03kWPn"
      },
      "execution_count": null,
      "outputs": []
    },
    {
      "cell_type": "code",
      "source": [],
      "metadata": {
        "id": "Gb27PaMIkWEV"
      },
      "execution_count": null,
      "outputs": []
    },
    {
      "cell_type": "code",
      "source": [],
      "metadata": {
        "id": "ah6CD7QEkVzb"
      },
      "execution_count": null,
      "outputs": []
    }
  ]
}